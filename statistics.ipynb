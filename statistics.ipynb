{
 "cells": [
  {
   "cell_type": "code",
   "execution_count": 2,
   "metadata": {},
   "outputs": [
    {
     "name": "stdout",
     "output_type": "stream",
     "text": [
      "Hello World. This works in GitHub how I expect.\n"
     ]
    }
   ],
   "source": [
    "print('Hello World. This works in GitHub how I expect.')"
   ]
  },
  {
   "cell_type": "markdown",
   "metadata": {},
   "source": [
    "# Statistical Analysis\n",
    "\n",
    "I use Jupyter to do the statistical breakdown. These values will be inserted into [searches/character_types.py](searches/character_types.py) for the probabilistic matches of each file signature type."
   ]
  }
 ],
 "metadata": {
  "kernelspec": {
   "display_name": ".536-proj3",
   "language": "python",
   "name": "python3"
  },
  "language_info": {
   "codemirror_mode": {
    "name": "ipython",
    "version": 3
   },
   "file_extension": ".py",
   "mimetype": "text/x-python",
   "name": "python",
   "nbconvert_exporter": "python",
   "pygments_lexer": "ipython3",
   "version": "3.11.6"
  }
 },
 "nbformat": 4,
 "nbformat_minor": 2
}
